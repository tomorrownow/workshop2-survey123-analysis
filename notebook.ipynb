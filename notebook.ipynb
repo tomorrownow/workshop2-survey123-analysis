{
 "metadata": {
  "language_info": {
   "codemirror_mode": {
    "name": "ipython",
    "version": 3
   },
   "file_extension": ".py",
   "mimetype": "text/x-python",
   "name": "python",
   "nbconvert_exporter": "python",
   "pygments_lexer": "ipython3",
   "version": "3.8.6"
  },
  "orig_nbformat": 2,
  "kernelspec": {
   "name": "python3",
   "display_name": "Python 3.8.6 64-bit",
   "metadata": {
    "interpreter": {
     "hash": "31f2aee4e71d21fbe5cf8b01ff0e069b9275f58929596ceb00d14d90e3e16cd6"
    }
   }
  }
 },
 "nbformat": 4,
 "nbformat_minor": 2,
 "cells": [
  {
   "cell_type": "code",
   "execution_count": 7,
   "metadata": {},
   "outputs": [
    {
     "output_type": "stream",
     "name": "stdout",
     "text": [
      "env: GISBASE=`grass79 --config path`   # or define path to binaries like /usr/local/grass-7.8.dev\n",
      "`grass79 --config path` # or define path to binaries like /usr/local/grass-7.8.dev\n",
      "env: MYGISDBASE=$HOME/Documents/grassdata # Change this path to reflect your own\n",
      "env: MYLOC=wrri_nad83_6542 # Change this location name to reflect your own\n",
      "env: MYMAPSET=tomorrownow\n",
      "env: MYGISRC=\"$HOME/.grassrc.$$\"\n",
      "/bin/bash: \"$HOME/.grassrc.$$\": No such file or directory\n",
      "/bin/bash: \"$HOME/.grassrc.$$\": No such file or directory\n",
      "/bin/bash: \"$HOME/.grassrc.$$\": No such file or directory\n",
      "/bin/bash: \"$HOME/.grassrc.$$\": No such file or directory\n",
      "env: GISRC=$MYGISRC\n",
      "env: LD_LIBRARY_PATH=$GISBASE/lib:$LD_LIBRARY_PATH\n",
      "env: PYTHONPATH=$GISBASE/etc/python:$PYTHONPATH\n",
      "env: PATH=$GISBASE/bin:$GISBASE/scripts:$PATH\n"
     ]
    }
   ],
   "source": [
    "\n",
    "%env GISBASE=`grass79 --config path`   # or define path to binaries like /usr/local/grass-7.8.dev\n",
    "!echo $GISBASE\n",
    "\n",
    "# generate GISRC\n",
    "# Defines the system wide value while in a GRASS session\n",
    "%env MYGISDBASE=$HOME/Documents/grassdata # Change this path to reflect your own \n",
    "%env MYLOC=wrri_nad83_6542 # Change this location name to reflect your own \n",
    "%env MYMAPSET=tomorrownow\n",
    "\n",
    "# Set the global grassrc file to individual file name\n",
    "%env MYGISRC=\"$HOME/.grassrc.$$\"\n",
    "\n",
    "!echo \"GISDBASE: $MYGISDBASE\" > \"$MYGISRC\"\n",
    "!echo \"LOCATION_NAME: $MYLOC\" >> \"$MYGISRC\"\n",
    "!echo \"MAPSET: $MYMAPSET\" >> \"$MYGISRC\"\n",
    "!echo \"GRASS_GUI: text\" >> \"$MYGISRC\"\n",
    "\n",
    "# path to GRASS settings file\n",
    "%env GISRC=$MYGISRC\n",
    "\n",
    "%env LD_LIBRARY_PATH=$GISBASE/lib:$LD_LIBRARY_PATH\n",
    "%env PYTHONPATH=$GISBASE/etc/python:$PYTHONPATH\n",
    "%env PATH=$GISBASE/bin:$GISBASE/scripts:$PATH\n",
    "\n"
   ]
  },
  {
   "cell_type": "code",
   "execution_count": 21,
   "metadata": {},
   "outputs": [],
   "source": [
    "# Import Python standard library and IPython packages we need.\n",
    "import os\n",
    "import sys\n",
    "import subprocess\n",
    "from IPython.display import Image\n",
    "\n",
    "# Ask GRASS GIS where its Python packages are.\n",
    "gisbase = '/usr/local/grass79' #subprocess.check_output([\"grass\", \"--config\", \"path\"]).strip()\n",
    "os.environ['GISBASE'] = gisbase\n",
    "sys.path.append(os.path.join(gisbase, \"etc\", \"python\"))\n",
    "\n",
    "# Import the GRASS GIS packages we need.\n",
    "import grass.script as gs\n",
    "import grass.script.setup as gsetup\n",
    "\n",
    "# Create a GRASS GIS session.\n",
    "rcfile = gsetup.init(gisbase, \"/home/coreywhite/Documents/grassdata\", \"wrri_nad83_6542\", \"tomorrownow\")\n",
    "\n",
    "# We want functions to raise exceptions and see standard output of the modules in the notebook.\n",
    "gs.set_raise_on_error(True)\n",
    "gs.set_capture_stderr(True)\n",
    "# Simply overwrite existing maps like we overwrite Python variable values.\n",
    "os.environ['GRASS_OVERWRITE'] = '1'\n",
    "# Enable map rendering in a notebook.\n",
    "os.environ['GRASS_FONT'] = 'sans'\n",
    "# Set display modules to render into a file (named map.png by default)\n",
    "os.environ['GRASS_RENDER_IMMEDIATE'] = 'cairo'\n",
    "os.environ['GRASS_RENDER_FILE_READ'] = 'TRUE'\n",
    "os.environ['GRASS_LEGEND_FILE'] = 'legend.txt'"
   ]
  },
  {
   "cell_type": "code",
   "execution_count": 22,
   "metadata": {},
   "outputs": [
    {
     "output_type": "execute_result",
     "data": {
      "text/plain": [
       "{'projection: 99 (NAD83(2011) / North Carolina)': None,\n",
       " 'zone:       0': None,\n",
       " 'datum:      nad83_2011': None,\n",
       " 'ellipsoid:  grs80': None,\n",
       " 'north:      261312.29394833': None,\n",
       " 'south:      222105.3147413': None,\n",
       " 'west:       601228.14901328': None,\n",
       " 'east:       646660.22428974': None,\n",
       " 'nsres:      10.00178041': None,\n",
       " 'ewres:      10.00045681': None,\n",
       " 'rows:       3920': None,\n",
       " 'cols:       4543': None,\n",
       " 'cells:      17808560': None}"
      ]
     },
     "metadata": {},
     "execution_count": 22
    }
   ],
   "source": [
    "gs.parse_command('g.region', flags='p')"
   ]
  },
  {
   "cell_type": "code",
   "execution_count": null,
   "metadata": {},
   "outputs": [],
   "source": []
  }
 ]
}